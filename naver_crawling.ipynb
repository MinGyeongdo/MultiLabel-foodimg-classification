{
 "cells": [
  {
   "cell_type": "code",
   "execution_count": 3,
   "metadata": {},
   "outputs": [],
   "source": [
    "from selenium import webdriver\n",
    "from selenium.webdriver.common.by import By\n",
    "import chromedriver_autoinstaller\n",
    "import random\n",
    "from selenium import webdriver\n",
    "import datetime\n",
    "import time\n",
    "import numpy as np\n",
    "import pandas as pd\n",
    "import re\n",
    "from selenium.webdriver.common.keys import Keys \n",
    "from urllib.parse import quote_plus\n",
    "from urllib.request import urlopen\n",
    "import os"
   ]
  },
  {
   "cell_type": "code",
   "execution_count": 4,
   "metadata": {},
   "outputs": [],
   "source": [
    "def Driver():\n",
    "    options = webdriver.ChromeOptions()\n",
    "    options.add_experimental_option(\"excludeSwitches\", [\"enable-logging\"])\n",
    "    #options.add_argument(\"headless\")\n",
    "    #options.add_argument('--start-fullscreen')\n",
    "    options.add_argument('--no-sandbox')\n",
    "    options.add_argument('--disable-dev-shm-usage')\n",
    "    wd = webdriver.Chrome(options = options)\n",
    "    return wd"
   ]
  },
  {
   "cell_type": "code",
   "execution_count": 5,
   "metadata": {},
   "outputs": [],
   "source": [
    "# 베이스 URL과 상업적 이용 가능 옵션\n",
    "def make_url(word):\n",
    "    base_url = 'https://search.naver.com/search.naver?sm=tab_hty.top&where=image&query='\n",
    "    ccl = '&res_fr=0&res_to=0&sm=tab_opt&color=&ccl=2&nso=so%3Ar%2Ca%3Aall%2Cp%3Aall&recent=0&datetype=0&startdate=0&enddate=0&gif=0&optStr=&nso_open=1&pq='\n",
    "    return base_url + word + ccl"
   ]
  },
  {
   "cell_type": "code",
   "execution_count": 6,
   "metadata": {},
   "outputs": [],
   "source": [
    "# 해당하는 폴더가 없을 경우 생성해주는 함수\n",
    "def makedirs(path): \n",
    "   try: \n",
    "        os.makedirs(path) \n",
    "   except OSError: \n",
    "       if not os.path.isdir(path): \n",
    "           raise"
   ]
  },
  {
   "cell_type": "code",
   "execution_count": 7,
   "metadata": {},
   "outputs": [],
   "source": [
    "# 찾을 목록이 담긴 dictionary\n",
    "search_dict = {\n",
    "        '건강식단': ['샐러드','고구마요리','닭가슴살음식','연어음식','오트밀'],\n",
    "        '밥류' : ['볶음밥','덮밥','한정식','돈까스','오므라이스'],\n",
    "        '면류' : ['라면','짜장면','짬뽕','파스타','냉면', '국수'],\n",
    "        '패스트푸드' : ['햄버거','감자튀김','피자','치킨'],\n",
    "        '디저트류' : ['카페음료','와플','아이스크림','탄산음료','조각케이크','쿠키','빙수']}"
   ]
  },
  {
   "cell_type": "code",
   "execution_count": 45,
   "metadata": {},
   "outputs": [],
   "source": [
    "def save_images(image_url, paths, file_name, i):\n",
    "    import base64\n",
    "        \n",
    "    if 'data:' in str(image_url):\n",
    "        image_url = str(image_url).replace('data:image/gif;base64,','')\n",
    "        print(image_url)\n",
    "        \n",
    "        with open(os.path.join(paths,  file_name + '_' + str(i)) + '.jpg', 'wb') as f:\n",
    "            f.write(base64.b64decode(image_url))\n",
    "        print('save complete')\n",
    "    else:\n",
    "        t= urlopen(image_url).read()\n",
    "        file = open(os.path.join(paths, file_name+'_'+str(i)+\".jpg\"), 'wb')\n",
    "        file.write(t)"
   ]
  },
  {
   "cell_type": "code",
   "execution_count": 46,
   "metadata": {},
   "outputs": [],
   "source": [
    "def naver_crawl(image_numbers):\n",
    "    wd = Driver()\n",
    "    wd.implicitly_wait(3)\n",
    "    for meal in search_dict:\n",
    "        for food in search_dict[meal]:\n",
    "                # 음식에 해당하는 검색어를 입력한 페이지 출력\n",
    "                wd.get(make_url(food))\n",
    "                time.sleep(2)\n",
    "                for i in range(1,image_numbers+1):\n",
    "                    time.sleep(2)\n",
    "                    # i에 해당하는 이미지가 없을 경우 PASS\n",
    "                    try:\n",
    "                        # image url 추출\n",
    "                        images= wd.find_elements(By.XPATH, f'//*[@id=\"main_pack\"]/section[2]/div/div[1]/div[1]/div[{i}]/div/div[1]/a/img')\n",
    "                        save_path = f'/Users/mgd81/CP1/images/{meal}/{food}/'\n",
    "                        makedirs(save_path)\n",
    "                        src = images[0].get_attribute('src')\n",
    "                        save_images(str(src), save_path, f'{meal}_{food}_', i)\n",
    "                        print(src)\n",
    "\n",
    "                        # 이미지가 10개가 넘어갈때 마다 PAGE_DOWN\n",
    "                        if i % 10 == 0:\n",
    "                            body = wd.find_element(By.XPATH,'//body').send_keys(Keys.PAGE_DOWN)\n",
    "                            time.sleep(3)\n",
    "                    except:\n",
    "                        print(f\"No element in {i}\")\n",
    "                        continue\n",
    "    wd.close()\n",
    "    print(\"End_crawling\")"
   ]
  },
  {
   "cell_type": "code",
   "execution_count": 47,
   "metadata": {},
   "outputs": [
    {
     "name": "stdout",
     "output_type": "stream",
     "text": [
      "https://search.pstatic.net/common/?src=http%3A%2F%2Fblogfiles.naver.net%2FMjAyMjA5MjlfMjY4%2FMDAxNjY0NDYyMDExMTU0.HSyEZIsYCIQhRQPYZ2FzVEpEOTY5bW0OtROFsYFIpZcg.ECqwEkpI7_jYgDXA_gJXmzhC3PkgNW7x3hN160d1hn0g.JPEG.i95kitty%2F1664461999726.jpg&type=a340\n",
      "https://search.pstatic.net/common/?src=http%3A%2F%2Fblogfiles.naver.net%2FMjAyMjA5MjZfMTM2%2FMDAxNjY0MTU5NDkyMDQ0.W7AiJFG4_gUqoDwooQpRaFRkS1ydHXiACZRgehx_xTog.JkKeWrE4Ae3dZpm_krrT2h_7rZsxJDU12k53gTP8jL0g.JPEG.20000950%2Foutput_3437907188.jpg&type=l340_165\n",
      "https://search.pstatic.net/common/?src=http%3A%2F%2Fblogfiles.naver.net%2FMjAyMjA1MTNfOTUg%2FMDAxNjUyNDMzNjU0MzIz.4wnyz81jWVLl6oXl-Jwch2Qnny3lr3i73p7dl_wi0AYg.KElSAJdik8PQFzZPyuyE4x2Uc_IrSdScG4OD6Y7Iw00g.JPEG.naman_sarang%2F20220512%25A3%25DF181806.jpg&type=a340\n",
      "https://search.pstatic.net/common/?src=http%3A%2F%2Fblogfiles.naver.net%2FMjAyMjA3MzBfMTA2%2FMDAxNjU5MTUyMjUzMTQ0.5K4eWQ1MGeMNpr61m1oe1CnKr2Le5TcT63miCGDOQLkg.3hn7GL2EdsHMVkHbqGJN8D3iiChX2gftUqkQvymVzAUg.JPEG.uj0155%2F20220730%25A3%25DF112750.jpg&type=a340\n",
      "R0lGODlhAQABAIAAAAAAAP///yH5BAEAAAAALAAAAAABAAEAAAIBRAA7\n",
      "save complete\n",
      "data:image/gif;base64,R0lGODlhAQABAIAAAAAAAP///yH5BAEAAAAALAAAAAABAAEAAAIBRAA7\n",
      "https://search.pstatic.net/common/?src=http%3A%2F%2Fblogfiles.naver.net%2FMjAyMjAxMjRfMjUx%2FMDAxNjQzMDA0Mzk3NTQw.CANr-1Nvn77QyGFh5SEvgruJaWIF4m3RdOH1crtmFJsg.Y3E88zmYudML6TbTOQnuCSlGBD5InhVxeuuxj5suU70g.JPEG.rkdtjdwls85%2FKakaoTalk_20220124_122800069_02.jpg&type=a340\n",
      "https://search.pstatic.net/common/?src=http%3A%2F%2Fblogfiles.naver.net%2FMjAyMTExMTVfMjI2%2FMDAxNjM2OTUyMTIyNTA2.VqyaAOwtQEAQ8WFe5QkVo13S9xVBeCuaT4YSZhhcmqQg.ogALoPM8VTM2TPdkfy01_twmNQ0Ju8BAtu5iwnS_ELwg.JPEG.sunday00814%2F20211113_180817.jpg&type=a340\n",
      "No element in 8\n",
      "No element in 9\n",
      "No element in 10\n"
     ]
    },
    {
     "ename": "NoSuchWindowException",
     "evalue": "Message: no such window: target window already closed\nfrom unknown error: web view not found\n  (Session info: chrome=107.0.5304.88)\nStacktrace:\nBacktrace:\n\tOrdinal0 [0x0102ACD3+2075859]\n\tOrdinal0 [0x00FBEE61+1633889]\n\tOrdinal0 [0x00EBB7BD+571325]\n\tOrdinal0 [0x00EA2E1A+470554]\n\tOrdinal0 [0x00F0AA0B+895499]\n\tOrdinal0 [0x00F1AC96+961686]\n\tOrdinal0 [0x00F07136+880950]\n\tOrdinal0 [0x00EDFEFD+720637]\n\tOrdinal0 [0x00EE0F3F+724799]\n\tGetHandleVerifier [0x012DEED2+2769538]\n\tGetHandleVerifier [0x012D0D95+2711877]\n\tGetHandleVerifier [0x010BA03A+521194]\n\tGetHandleVerifier [0x010B8DA0+516432]\n\tOrdinal0 [0x00FC682C+1665068]\n\tOrdinal0 [0x00FCB128+1683752]\n\tOrdinal0 [0x00FCB215+1683989]\n\tOrdinal0 [0x00FD6484+1729668]\n\tBaseThreadInitThunk [0x76916739+25]\n\tRtlGetFullPathName_UEx [0x77B28FD2+1218]\n\tRtlGetFullPathName_UEx [0x77B28F9D+1165]\n",
     "output_type": "error",
     "traceback": [
      "\u001b[1;31m---------------------------------------------------------------------------\u001b[0m",
      "\u001b[1;31mNoSuchWindowException\u001b[0m                     Traceback (most recent call last)",
      "\u001b[1;32mc:\\Users\\mgd81\\CP1\\naver_crawling.ipynb 셀 8\u001b[0m in \u001b[0;36m<cell line: 1>\u001b[1;34m()\u001b[0m\n\u001b[1;32m----> <a href='vscode-notebook-cell:/c%3A/Users/mgd81/CP1/naver_crawling.ipynb#X21sZmlsZQ%3D%3D?line=0'>1</a>\u001b[0m naver_crawl(\u001b[39m10\u001b[39;49m)\n",
      "\u001b[1;32mc:\\Users\\mgd81\\CP1\\naver_crawling.ipynb 셀 8\u001b[0m in \u001b[0;36mnaver_crawl\u001b[1;34m(image_numbers)\u001b[0m\n\u001b[0;32m      <a href='vscode-notebook-cell:/c%3A/Users/mgd81/CP1/naver_crawling.ipynb#X21sZmlsZQ%3D%3D?line=3'>4</a>\u001b[0m \u001b[39mfor\u001b[39;00m meal \u001b[39min\u001b[39;00m search_dict:\n\u001b[0;32m      <a href='vscode-notebook-cell:/c%3A/Users/mgd81/CP1/naver_crawling.ipynb#X21sZmlsZQ%3D%3D?line=4'>5</a>\u001b[0m     \u001b[39mfor\u001b[39;00m food \u001b[39min\u001b[39;00m search_dict[meal]:\n\u001b[0;32m      <a href='vscode-notebook-cell:/c%3A/Users/mgd81/CP1/naver_crawling.ipynb#X21sZmlsZQ%3D%3D?line=5'>6</a>\u001b[0m             \u001b[39m# 음식에 해당하는 검색어를 입력한 페이지 출력\u001b[39;00m\n\u001b[1;32m----> <a href='vscode-notebook-cell:/c%3A/Users/mgd81/CP1/naver_crawling.ipynb#X21sZmlsZQ%3D%3D?line=6'>7</a>\u001b[0m             wd\u001b[39m.\u001b[39;49mget(make_url(food))\n\u001b[0;32m      <a href='vscode-notebook-cell:/c%3A/Users/mgd81/CP1/naver_crawling.ipynb#X21sZmlsZQ%3D%3D?line=7'>8</a>\u001b[0m             time\u001b[39m.\u001b[39msleep(\u001b[39m2\u001b[39m)\n\u001b[0;32m      <a href='vscode-notebook-cell:/c%3A/Users/mgd81/CP1/naver_crawling.ipynb#X21sZmlsZQ%3D%3D?line=8'>9</a>\u001b[0m             \u001b[39mfor\u001b[39;00m i \u001b[39min\u001b[39;00m \u001b[39mrange\u001b[39m(\u001b[39m1\u001b[39m,image_numbers\u001b[39m+\u001b[39m\u001b[39m1\u001b[39m):\n",
      "File \u001b[1;32mc:\\Users\\mgd81\\anaconda3\\envs\\s3_project\\lib\\site-packages\\selenium\\webdriver\\remote\\webdriver.py:440\u001b[0m, in \u001b[0;36mWebDriver.get\u001b[1;34m(self, url)\u001b[0m\n\u001b[0;32m    436\u001b[0m \u001b[39mdef\u001b[39;00m \u001b[39mget\u001b[39m(\u001b[39mself\u001b[39m, url: \u001b[39mstr\u001b[39m) \u001b[39m-\u001b[39m\u001b[39m>\u001b[39m \u001b[39mNone\u001b[39;00m:\n\u001b[0;32m    437\u001b[0m     \u001b[39m\"\"\"\u001b[39;00m\n\u001b[0;32m    438\u001b[0m \u001b[39m    Loads a web page in the current browser session.\u001b[39;00m\n\u001b[0;32m    439\u001b[0m \u001b[39m    \"\"\"\u001b[39;00m\n\u001b[1;32m--> 440\u001b[0m     \u001b[39mself\u001b[39;49m\u001b[39m.\u001b[39;49mexecute(Command\u001b[39m.\u001b[39;49mGET, {\u001b[39m'\u001b[39;49m\u001b[39murl\u001b[39;49m\u001b[39m'\u001b[39;49m: url})\n",
      "File \u001b[1;32mc:\\Users\\mgd81\\anaconda3\\envs\\s3_project\\lib\\site-packages\\selenium\\webdriver\\remote\\webdriver.py:428\u001b[0m, in \u001b[0;36mWebDriver.execute\u001b[1;34m(self, driver_command, params)\u001b[0m\n\u001b[0;32m    426\u001b[0m response \u001b[39m=\u001b[39m \u001b[39mself\u001b[39m\u001b[39m.\u001b[39mcommand_executor\u001b[39m.\u001b[39mexecute(driver_command, params)\n\u001b[0;32m    427\u001b[0m \u001b[39mif\u001b[39;00m response:\n\u001b[1;32m--> 428\u001b[0m     \u001b[39mself\u001b[39;49m\u001b[39m.\u001b[39;49merror_handler\u001b[39m.\u001b[39;49mcheck_response(response)\n\u001b[0;32m    429\u001b[0m     response[\u001b[39m'\u001b[39m\u001b[39mvalue\u001b[39m\u001b[39m'\u001b[39m] \u001b[39m=\u001b[39m \u001b[39mself\u001b[39m\u001b[39m.\u001b[39m_unwrap_value(\n\u001b[0;32m    430\u001b[0m         response\u001b[39m.\u001b[39mget(\u001b[39m'\u001b[39m\u001b[39mvalue\u001b[39m\u001b[39m'\u001b[39m, \u001b[39mNone\u001b[39;00m))\n\u001b[0;32m    431\u001b[0m     \u001b[39mreturn\u001b[39;00m response\n",
      "File \u001b[1;32mc:\\Users\\mgd81\\anaconda3\\envs\\s3_project\\lib\\site-packages\\selenium\\webdriver\\remote\\errorhandler.py:243\u001b[0m, in \u001b[0;36mErrorHandler.check_response\u001b[1;34m(self, response)\u001b[0m\n\u001b[0;32m    241\u001b[0m         alert_text \u001b[39m=\u001b[39m value[\u001b[39m'\u001b[39m\u001b[39malert\u001b[39m\u001b[39m'\u001b[39m]\u001b[39m.\u001b[39mget(\u001b[39m'\u001b[39m\u001b[39mtext\u001b[39m\u001b[39m'\u001b[39m)\n\u001b[0;32m    242\u001b[0m     \u001b[39mraise\u001b[39;00m exception_class(message, screen, stacktrace, alert_text)  \u001b[39m# type: ignore[call-arg]  # mypy is not smart enough here\u001b[39;00m\n\u001b[1;32m--> 243\u001b[0m \u001b[39mraise\u001b[39;00m exception_class(message, screen, stacktrace)\n",
      "\u001b[1;31mNoSuchWindowException\u001b[0m: Message: no such window: target window already closed\nfrom unknown error: web view not found\n  (Session info: chrome=107.0.5304.88)\nStacktrace:\nBacktrace:\n\tOrdinal0 [0x0102ACD3+2075859]\n\tOrdinal0 [0x00FBEE61+1633889]\n\tOrdinal0 [0x00EBB7BD+571325]\n\tOrdinal0 [0x00EA2E1A+470554]\n\tOrdinal0 [0x00F0AA0B+895499]\n\tOrdinal0 [0x00F1AC96+961686]\n\tOrdinal0 [0x00F07136+880950]\n\tOrdinal0 [0x00EDFEFD+720637]\n\tOrdinal0 [0x00EE0F3F+724799]\n\tGetHandleVerifier [0x012DEED2+2769538]\n\tGetHandleVerifier [0x012D0D95+2711877]\n\tGetHandleVerifier [0x010BA03A+521194]\n\tGetHandleVerifier [0x010B8DA0+516432]\n\tOrdinal0 [0x00FC682C+1665068]\n\tOrdinal0 [0x00FCB128+1683752]\n\tOrdinal0 [0x00FCB215+1683989]\n\tOrdinal0 [0x00FD6484+1729668]\n\tBaseThreadInitThunk [0x76916739+25]\n\tRtlGetFullPathName_UEx [0x77B28FD2+1218]\n\tRtlGetFullPathName_UEx [0x77B28F9D+1165]\n"
     ]
    }
   ],
   "source": [
    "naver_crawl(10)\n",
    "#//*[@id=\"main_pack\"]/section[2]/div/div[1]/div[1]/div[5]/div/div[1]/a/img"
   ]
  },
  {
   "cell_type": "code",
   "execution_count": null,
   "metadata": {},
   "outputs": [],
   "source": []
  }
 ],
 "metadata": {
  "kernelspec": {
   "display_name": "Python 3.8.13 ('s3_project')",
   "language": "python",
   "name": "python3"
  },
  "language_info": {
   "codemirror_mode": {
    "name": "ipython",
    "version": 3
   },
   "file_extension": ".py",
   "mimetype": "text/x-python",
   "name": "python",
   "nbconvert_exporter": "python",
   "pygments_lexer": "ipython3",
   "version": "3.8.13"
  },
  "orig_nbformat": 4,
  "vscode": {
   "interpreter": {
    "hash": "286ecae94cf36c4912add2d4991ed6db347a64773d935e15a73f1ebc3d816dd5"
   }
  }
 },
 "nbformat": 4,
 "nbformat_minor": 2
}
