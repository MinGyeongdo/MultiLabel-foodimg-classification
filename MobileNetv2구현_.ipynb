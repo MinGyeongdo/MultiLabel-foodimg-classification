{
  "nbformat": 4,
  "nbformat_minor": 0,
  "metadata": {
    "colab": {
      "provenance": [],
      "authorship_tag": "ABX9TyPDAARDJ4UHkcB/m5RWhElU",
      "include_colab_link": true
    },
    "kernelspec": {
      "name": "python3",
      "display_name": "Python 3"
    },
    "language_info": {
      "name": "python"
    }
  },
  "cells": [
    {
      "cell_type": "markdown",
      "metadata": {
        "id": "view-in-github",
        "colab_type": "text"
      },
      "source": [
        "<a href=\"https://colab.research.google.com/github/MinGyeongdo/MultiLabel-foodimg-classification/blob/main/MobileNetv2%EA%B5%AC%ED%98%84_.ipynb\" target=\"_parent\"><img src=\"https://colab.research.google.com/assets/colab-badge.svg\" alt=\"Open In Colab\"/></a>"
      ]
    },
    {
      "cell_type": "markdown",
      "source": [
        "# 1. MobileNet?\n",
        "**MoblilNets : Efficient Convoluation Neural networks for Mobile Vision Application**<br>\n",
        "논문제목을 그대로 직역하면 모바일 비전 적용을 위한 효율적인 CNN으로써 Xception이 Convolution 과정을 통해 줄인 파라미터의 수만큼 층을 깊게 쌓아서 성능을 높이는데 중점을 두었다면 MobileNet은 모바일에서도 활용할 수 있게끔 성능을 최대한 살리면서 모델을 가볍게 만들고자하는 연구에서 개발된 모델입니다.\n",
        "<br><br>\n",
        "논문의 소개글에서 보면 어떠한 2개의 하이퍼파라미터를 설정하여 **Low latency** 모델을 만들면 임베디드나 모바일 비전에 적용하기 쉽게 설계가 가능하다는 것입니다.\n",
        "<br><br>\n",
        "섹션 2에서는 경량화 모델을 구축하기 위한 사전작업에 대한 리뷰를<br>\n",
        "섹션 3에서는 모바일넷의 구조와 두 개의 하이퍼파라미터에 대한 내용을<br>\n",
        "섹션 4에서는 이미지넷 에서의 실험 결과를<br>\n",
        "섹션 5에서는 맺음말과 결론을 확인할 수 있습니다.<br>\n"
      ],
      "metadata": {
        "id": "IavF88c6Xano"
      }
    },
    {
      "cell_type": "code",
      "execution_count": null,
      "metadata": {
        "id": "lpKYAribS3WW"
      },
      "outputs": [],
      "source": []
    }
  ]
}